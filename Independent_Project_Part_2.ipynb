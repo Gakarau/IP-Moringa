{
  "nbformat": 4,
  "nbformat_minor": 0,
  "metadata": {
    "colab": {
      "name": "Independent Project Part 2.ipynb",
      "provenance": [],
      "authorship_tag": "ABX9TyPI9MoRpi2CkUCf7ryKh7DI",
      "include_colab_link": true
    },
    "kernelspec": {
      "name": "python3",
      "display_name": "Python 3"
    },
    "language_info": {
      "name": "python"
    }
  },
  "cells": [
    {
      "cell_type": "markdown",
      "metadata": {
        "id": "view-in-github",
        "colab_type": "text"
      },
      "source": [
        "<a href=\"https://colab.research.google.com/github/Gakarau/IP-Moringa/blob/main/Independent_Project_Part_2.ipynb\" target=\"_parent\"><img src=\"https://colab.research.google.com/assets/colab-badge.svg\" alt=\"Open In Colab\"/></a>"
      ]
    },
    {
      "cell_type": "code",
      "execution_count": null,
      "metadata": {
        "id": "J0fW5GAjB2tH"
      },
      "outputs": [],
      "source": [
        "#Developing a Hypothesis and Problem Statement\n"
      ]
    },
    {
      "cell_type": "markdown",
      "source": [
        "This project seeks to understand or investigate a cliam about the blue electric car usage from the autolib dataset. The goal is to understand how user patterns are impacted by the days of the week. \n",
        "Thus, the hypothesis to be tested for this study will be: \n",
        "\n",
        "***Null Hypothesis***: There is no significant difference between the number of bluecars taken on weekdays and on weekends \n",
        "\n",
        "***Alternate Hypothesis***: Customers take more blue cars on weekends as compared to weekdays. \n",
        "\n",
        "The analysis is interesting because it focuses on understanding when people are likely to take an electric car. Such information can be necessary for planning aspects such as service schedules to ensure that the right number of cars is available for use during the week or weekends. "
      ],
      "metadata": {
        "id": "TzPWUFnvIKAX"
      }
    },
    {
      "cell_type": "code",
      "source": [
        "#Loading the dataset and Importing Libraries "
      ],
      "metadata": {
        "id": "YuynBONLKCQ_"
      },
      "execution_count": null,
      "outputs": []
    },
    {
      "cell_type": "code",
      "source": [
        "import pandas as pd\n",
        "import numpy as np\n",
        "import seaborn as sns\n",
        "import matplotlib\n",
        "from matplotlib import pyplot as plt\n",
        "%matplotlib inline"
      ],
      "metadata": {
        "id": "wDnbaOtYKB9s"
      },
      "execution_count": 1,
      "outputs": []
    },
    {
      "cell_type": "code",
      "source": [
        "Cars = pd.read_csv(\"/content/AAutolib.csv\")\n",
        "Cars.head()"
      ],
      "metadata": {
        "colab": {
          "base_uri": "https://localhost:8080/",
          "height": 288
        },
        "id": "Y0Nsq7QbKbXc",
        "outputId": "acf15e51-021f-4444-fcef-0e4eecd8927c"
      },
      "execution_count": 4,
      "outputs": [
        {
          "output_type": "execute_result",
          "data": {
            "text/plain": [
              "   Postal code      date  n_daily_data_points  dayOfWeek day_type  \\\n",
              "0        75001  1/1/2018                 1440          0  weekday   \n",
              "1        75001  1/2/2018                 1438          1  weekday   \n",
              "2        75001  1/3/2018                 1439          2  weekday   \n",
              "3        75001  1/4/2018                 1320          3  weekday   \n",
              "4        75001  1/5/2018                 1440          4  weekday   \n",
              "\n",
              "   BlueCars_taken_sum  BlueCars_returned_sum  Utilib_taken_sum  \\\n",
              "0                 110                    103                 3   \n",
              "1                  98                     94                 1   \n",
              "2                 138                    139                 0   \n",
              "3                 104                    104                 2   \n",
              "4                 114                    117                 3   \n",
              "\n",
              "   Utilib_returned_sum  Utilib_14_taken_sum  Utilib_14_returned_sum  \\\n",
              "0                    2                   10                       9   \n",
              "1                    1                    8                       8   \n",
              "2                    0                    2                       2   \n",
              "3                    2                    9                       8   \n",
              "4                    3                    6                       6   \n",
              "\n",
              "   Slots_freed_sum  Slots_taken_sum  \n",
              "0               22               20  \n",
              "1               23               22  \n",
              "2               27               27  \n",
              "3               25               21  \n",
              "4               18               20  "
            ],
            "text/html": [
              "\n",
              "  <div id=\"df-cab9102c-95e6-407e-9f1d-7d0a83ca6283\">\n",
              "    <div class=\"colab-df-container\">\n",
              "      <div>\n",
              "<style scoped>\n",
              "    .dataframe tbody tr th:only-of-type {\n",
              "        vertical-align: middle;\n",
              "    }\n",
              "\n",
              "    .dataframe tbody tr th {\n",
              "        vertical-align: top;\n",
              "    }\n",
              "\n",
              "    .dataframe thead th {\n",
              "        text-align: right;\n",
              "    }\n",
              "</style>\n",
              "<table border=\"1\" class=\"dataframe\">\n",
              "  <thead>\n",
              "    <tr style=\"text-align: right;\">\n",
              "      <th></th>\n",
              "      <th>Postal code</th>\n",
              "      <th>date</th>\n",
              "      <th>n_daily_data_points</th>\n",
              "      <th>dayOfWeek</th>\n",
              "      <th>day_type</th>\n",
              "      <th>BlueCars_taken_sum</th>\n",
              "      <th>BlueCars_returned_sum</th>\n",
              "      <th>Utilib_taken_sum</th>\n",
              "      <th>Utilib_returned_sum</th>\n",
              "      <th>Utilib_14_taken_sum</th>\n",
              "      <th>Utilib_14_returned_sum</th>\n",
              "      <th>Slots_freed_sum</th>\n",
              "      <th>Slots_taken_sum</th>\n",
              "    </tr>\n",
              "  </thead>\n",
              "  <tbody>\n",
              "    <tr>\n",
              "      <th>0</th>\n",
              "      <td>75001</td>\n",
              "      <td>1/1/2018</td>\n",
              "      <td>1440</td>\n",
              "      <td>0</td>\n",
              "      <td>weekday</td>\n",
              "      <td>110</td>\n",
              "      <td>103</td>\n",
              "      <td>3</td>\n",
              "      <td>2</td>\n",
              "      <td>10</td>\n",
              "      <td>9</td>\n",
              "      <td>22</td>\n",
              "      <td>20</td>\n",
              "    </tr>\n",
              "    <tr>\n",
              "      <th>1</th>\n",
              "      <td>75001</td>\n",
              "      <td>1/2/2018</td>\n",
              "      <td>1438</td>\n",
              "      <td>1</td>\n",
              "      <td>weekday</td>\n",
              "      <td>98</td>\n",
              "      <td>94</td>\n",
              "      <td>1</td>\n",
              "      <td>1</td>\n",
              "      <td>8</td>\n",
              "      <td>8</td>\n",
              "      <td>23</td>\n",
              "      <td>22</td>\n",
              "    </tr>\n",
              "    <tr>\n",
              "      <th>2</th>\n",
              "      <td>75001</td>\n",
              "      <td>1/3/2018</td>\n",
              "      <td>1439</td>\n",
              "      <td>2</td>\n",
              "      <td>weekday</td>\n",
              "      <td>138</td>\n",
              "      <td>139</td>\n",
              "      <td>0</td>\n",
              "      <td>0</td>\n",
              "      <td>2</td>\n",
              "      <td>2</td>\n",
              "      <td>27</td>\n",
              "      <td>27</td>\n",
              "    </tr>\n",
              "    <tr>\n",
              "      <th>3</th>\n",
              "      <td>75001</td>\n",
              "      <td>1/4/2018</td>\n",
              "      <td>1320</td>\n",
              "      <td>3</td>\n",
              "      <td>weekday</td>\n",
              "      <td>104</td>\n",
              "      <td>104</td>\n",
              "      <td>2</td>\n",
              "      <td>2</td>\n",
              "      <td>9</td>\n",
              "      <td>8</td>\n",
              "      <td>25</td>\n",
              "      <td>21</td>\n",
              "    </tr>\n",
              "    <tr>\n",
              "      <th>4</th>\n",
              "      <td>75001</td>\n",
              "      <td>1/5/2018</td>\n",
              "      <td>1440</td>\n",
              "      <td>4</td>\n",
              "      <td>weekday</td>\n",
              "      <td>114</td>\n",
              "      <td>117</td>\n",
              "      <td>3</td>\n",
              "      <td>3</td>\n",
              "      <td>6</td>\n",
              "      <td>6</td>\n",
              "      <td>18</td>\n",
              "      <td>20</td>\n",
              "    </tr>\n",
              "  </tbody>\n",
              "</table>\n",
              "</div>\n",
              "      <button class=\"colab-df-convert\" onclick=\"convertToInteractive('df-cab9102c-95e6-407e-9f1d-7d0a83ca6283')\"\n",
              "              title=\"Convert this dataframe to an interactive table.\"\n",
              "              style=\"display:none;\">\n",
              "        \n",
              "  <svg xmlns=\"http://www.w3.org/2000/svg\" height=\"24px\"viewBox=\"0 0 24 24\"\n",
              "       width=\"24px\">\n",
              "    <path d=\"M0 0h24v24H0V0z\" fill=\"none\"/>\n",
              "    <path d=\"M18.56 5.44l.94 2.06.94-2.06 2.06-.94-2.06-.94-.94-2.06-.94 2.06-2.06.94zm-11 1L8.5 8.5l.94-2.06 2.06-.94-2.06-.94L8.5 2.5l-.94 2.06-2.06.94zm10 10l.94 2.06.94-2.06 2.06-.94-2.06-.94-.94-2.06-.94 2.06-2.06.94z\"/><path d=\"M17.41 7.96l-1.37-1.37c-.4-.4-.92-.59-1.43-.59-.52 0-1.04.2-1.43.59L10.3 9.45l-7.72 7.72c-.78.78-.78 2.05 0 2.83L4 21.41c.39.39.9.59 1.41.59.51 0 1.02-.2 1.41-.59l7.78-7.78 2.81-2.81c.8-.78.8-2.07 0-2.86zM5.41 20L4 18.59l7.72-7.72 1.47 1.35L5.41 20z\"/>\n",
              "  </svg>\n",
              "      </button>\n",
              "      \n",
              "  <style>\n",
              "    .colab-df-container {\n",
              "      display:flex;\n",
              "      flex-wrap:wrap;\n",
              "      gap: 12px;\n",
              "    }\n",
              "\n",
              "    .colab-df-convert {\n",
              "      background-color: #E8F0FE;\n",
              "      border: none;\n",
              "      border-radius: 50%;\n",
              "      cursor: pointer;\n",
              "      display: none;\n",
              "      fill: #1967D2;\n",
              "      height: 32px;\n",
              "      padding: 0 0 0 0;\n",
              "      width: 32px;\n",
              "    }\n",
              "\n",
              "    .colab-df-convert:hover {\n",
              "      background-color: #E2EBFA;\n",
              "      box-shadow: 0px 1px 2px rgba(60, 64, 67, 0.3), 0px 1px 3px 1px rgba(60, 64, 67, 0.15);\n",
              "      fill: #174EA6;\n",
              "    }\n",
              "\n",
              "    [theme=dark] .colab-df-convert {\n",
              "      background-color: #3B4455;\n",
              "      fill: #D2E3FC;\n",
              "    }\n",
              "\n",
              "    [theme=dark] .colab-df-convert:hover {\n",
              "      background-color: #434B5C;\n",
              "      box-shadow: 0px 1px 3px 1px rgba(0, 0, 0, 0.15);\n",
              "      filter: drop-shadow(0px 1px 2px rgba(0, 0, 0, 0.3));\n",
              "      fill: #FFFFFF;\n",
              "    }\n",
              "  </style>\n",
              "\n",
              "      <script>\n",
              "        const buttonEl =\n",
              "          document.querySelector('#df-cab9102c-95e6-407e-9f1d-7d0a83ca6283 button.colab-df-convert');\n",
              "        buttonEl.style.display =\n",
              "          google.colab.kernel.accessAllowed ? 'block' : 'none';\n",
              "\n",
              "        async function convertToInteractive(key) {\n",
              "          const element = document.querySelector('#df-cab9102c-95e6-407e-9f1d-7d0a83ca6283');\n",
              "          const dataTable =\n",
              "            await google.colab.kernel.invokeFunction('convertToInteractive',\n",
              "                                                     [key], {});\n",
              "          if (!dataTable) return;\n",
              "\n",
              "          const docLinkHtml = 'Like what you see? Visit the ' +\n",
              "            '<a target=\"_blank\" href=https://colab.research.google.com/notebooks/data_table.ipynb>data table notebook</a>'\n",
              "            + ' to learn more about interactive tables.';\n",
              "          element.innerHTML = '';\n",
              "          dataTable['output_type'] = 'display_data';\n",
              "          await google.colab.output.renderOutput(dataTable, element);\n",
              "          const docLink = document.createElement('div');\n",
              "          docLink.innerHTML = docLinkHtml;\n",
              "          element.appendChild(docLink);\n",
              "        }\n",
              "      </script>\n",
              "    </div>\n",
              "  </div>\n",
              "  "
            ]
          },
          "metadata": {},
          "execution_count": 4
        }
      ]
    },
    {
      "cell_type": "code",
      "source": [
        "Cars.info()\n",
        "Cars.describe()"
      ],
      "metadata": {
        "colab": {
          "base_uri": "https://localhost:8080/",
          "height": 711
        },
        "id": "f8zjIPJ1LAeH",
        "outputId": "d9f5bd4b-04e6-4ad4-a5fe-d88a0945f1c3"
      },
      "execution_count": 9,
      "outputs": [
        {
          "output_type": "stream",
          "name": "stdout",
          "text": [
            "<class 'pandas.core.frame.DataFrame'>\n",
            "RangeIndex: 16085 entries, 0 to 16084\n",
            "Data columns (total 13 columns):\n",
            " #   Column                  Non-Null Count  Dtype \n",
            "---  ------                  --------------  ----- \n",
            " 0   Postal code             16085 non-null  int64 \n",
            " 1   date                    16085 non-null  object\n",
            " 2   n_daily_data_points     16085 non-null  int64 \n",
            " 3   dayOfWeek               16085 non-null  int64 \n",
            " 4   day_type                16085 non-null  object\n",
            " 5   BlueCars_taken_sum      16085 non-null  int64 \n",
            " 6   BlueCars_returned_sum   16085 non-null  int64 \n",
            " 7   Utilib_taken_sum        16085 non-null  int64 \n",
            " 8   Utilib_returned_sum     16085 non-null  int64 \n",
            " 9   Utilib_14_taken_sum     16085 non-null  int64 \n",
            " 10  Utilib_14_returned_sum  16085 non-null  int64 \n",
            " 11  Slots_freed_sum         16085 non-null  int64 \n",
            " 12  Slots_taken_sum         16085 non-null  int64 \n",
            "dtypes: int64(11), object(2)\n",
            "memory usage: 1.6+ MB\n"
          ]
        },
        {
          "output_type": "execute_result",
          "data": {
            "text/plain": [
              "        Postal code  n_daily_data_points     dayOfWeek  BlueCars_taken_sum  \\\n",
              "count  16085.000000         16085.000000  16085.000000        16085.000000   \n",
              "mean   88791.293876          1431.330619      2.969599          125.926951   \n",
              "std     7647.342000            33.212050      2.008378          185.426579   \n",
              "min    75001.000000          1174.000000      0.000000            0.000000   \n",
              "25%    91330.000000          1439.000000      1.000000           20.000000   \n",
              "50%    92340.000000          1440.000000      3.000000           46.000000   \n",
              "75%    93400.000000          1440.000000      5.000000          135.000000   \n",
              "max    95880.000000          1440.000000      6.000000         1352.000000   \n",
              "\n",
              "       BlueCars_returned_sum  Utilib_taken_sum  Utilib_returned_sum  \\\n",
              "count           16085.000000      16085.000000         16085.000000   \n",
              "mean              125.912714          3.698290             3.699099   \n",
              "std               185.501535          5.815058             5.824634   \n",
              "min                 0.000000          0.000000             0.000000   \n",
              "25%                20.000000          0.000000             0.000000   \n",
              "50%                46.000000          1.000000             1.000000   \n",
              "75%               135.000000          4.000000             4.000000   \n",
              "max              1332.000000         54.000000            58.000000   \n",
              "\n",
              "       Utilib_14_taken_sum  Utilib_14_returned_sum  Slots_freed_sum  \\\n",
              "count         16085.000000            16085.000000     16085.000000   \n",
              "mean              8.600560                8.599192        22.629033   \n",
              "std              12.870098               12.868993        52.120263   \n",
              "min               0.000000                0.000000         0.000000   \n",
              "25%               1.000000                1.000000         0.000000   \n",
              "50%               3.000000                3.000000         0.000000   \n",
              "75%              10.000000               10.000000         5.000000   \n",
              "max             100.000000              101.000000       360.000000   \n",
              "\n",
              "       Slots_taken_sum  \n",
              "count     16085.000000  \n",
              "mean         22.629282  \n",
              "std          52.146030  \n",
              "min           0.000000  \n",
              "25%           0.000000  \n",
              "50%           0.000000  \n",
              "75%           5.000000  \n",
              "max         359.000000  "
            ],
            "text/html": [
              "\n",
              "  <div id=\"df-3049a66a-f3b7-479a-baf0-4e5b7a5e1707\">\n",
              "    <div class=\"colab-df-container\">\n",
              "      <div>\n",
              "<style scoped>\n",
              "    .dataframe tbody tr th:only-of-type {\n",
              "        vertical-align: middle;\n",
              "    }\n",
              "\n",
              "    .dataframe tbody tr th {\n",
              "        vertical-align: top;\n",
              "    }\n",
              "\n",
              "    .dataframe thead th {\n",
              "        text-align: right;\n",
              "    }\n",
              "</style>\n",
              "<table border=\"1\" class=\"dataframe\">\n",
              "  <thead>\n",
              "    <tr style=\"text-align: right;\">\n",
              "      <th></th>\n",
              "      <th>Postal code</th>\n",
              "      <th>n_daily_data_points</th>\n",
              "      <th>dayOfWeek</th>\n",
              "      <th>BlueCars_taken_sum</th>\n",
              "      <th>BlueCars_returned_sum</th>\n",
              "      <th>Utilib_taken_sum</th>\n",
              "      <th>Utilib_returned_sum</th>\n",
              "      <th>Utilib_14_taken_sum</th>\n",
              "      <th>Utilib_14_returned_sum</th>\n",
              "      <th>Slots_freed_sum</th>\n",
              "      <th>Slots_taken_sum</th>\n",
              "    </tr>\n",
              "  </thead>\n",
              "  <tbody>\n",
              "    <tr>\n",
              "      <th>count</th>\n",
              "      <td>16085.000000</td>\n",
              "      <td>16085.000000</td>\n",
              "      <td>16085.000000</td>\n",
              "      <td>16085.000000</td>\n",
              "      <td>16085.000000</td>\n",
              "      <td>16085.000000</td>\n",
              "      <td>16085.000000</td>\n",
              "      <td>16085.000000</td>\n",
              "      <td>16085.000000</td>\n",
              "      <td>16085.000000</td>\n",
              "      <td>16085.000000</td>\n",
              "    </tr>\n",
              "    <tr>\n",
              "      <th>mean</th>\n",
              "      <td>88791.293876</td>\n",
              "      <td>1431.330619</td>\n",
              "      <td>2.969599</td>\n",
              "      <td>125.926951</td>\n",
              "      <td>125.912714</td>\n",
              "      <td>3.698290</td>\n",
              "      <td>3.699099</td>\n",
              "      <td>8.600560</td>\n",
              "      <td>8.599192</td>\n",
              "      <td>22.629033</td>\n",
              "      <td>22.629282</td>\n",
              "    </tr>\n",
              "    <tr>\n",
              "      <th>std</th>\n",
              "      <td>7647.342000</td>\n",
              "      <td>33.212050</td>\n",
              "      <td>2.008378</td>\n",
              "      <td>185.426579</td>\n",
              "      <td>185.501535</td>\n",
              "      <td>5.815058</td>\n",
              "      <td>5.824634</td>\n",
              "      <td>12.870098</td>\n",
              "      <td>12.868993</td>\n",
              "      <td>52.120263</td>\n",
              "      <td>52.146030</td>\n",
              "    </tr>\n",
              "    <tr>\n",
              "      <th>min</th>\n",
              "      <td>75001.000000</td>\n",
              "      <td>1174.000000</td>\n",
              "      <td>0.000000</td>\n",
              "      <td>0.000000</td>\n",
              "      <td>0.000000</td>\n",
              "      <td>0.000000</td>\n",
              "      <td>0.000000</td>\n",
              "      <td>0.000000</td>\n",
              "      <td>0.000000</td>\n",
              "      <td>0.000000</td>\n",
              "      <td>0.000000</td>\n",
              "    </tr>\n",
              "    <tr>\n",
              "      <th>25%</th>\n",
              "      <td>91330.000000</td>\n",
              "      <td>1439.000000</td>\n",
              "      <td>1.000000</td>\n",
              "      <td>20.000000</td>\n",
              "      <td>20.000000</td>\n",
              "      <td>0.000000</td>\n",
              "      <td>0.000000</td>\n",
              "      <td>1.000000</td>\n",
              "      <td>1.000000</td>\n",
              "      <td>0.000000</td>\n",
              "      <td>0.000000</td>\n",
              "    </tr>\n",
              "    <tr>\n",
              "      <th>50%</th>\n",
              "      <td>92340.000000</td>\n",
              "      <td>1440.000000</td>\n",
              "      <td>3.000000</td>\n",
              "      <td>46.000000</td>\n",
              "      <td>46.000000</td>\n",
              "      <td>1.000000</td>\n",
              "      <td>1.000000</td>\n",
              "      <td>3.000000</td>\n",
              "      <td>3.000000</td>\n",
              "      <td>0.000000</td>\n",
              "      <td>0.000000</td>\n",
              "    </tr>\n",
              "    <tr>\n",
              "      <th>75%</th>\n",
              "      <td>93400.000000</td>\n",
              "      <td>1440.000000</td>\n",
              "      <td>5.000000</td>\n",
              "      <td>135.000000</td>\n",
              "      <td>135.000000</td>\n",
              "      <td>4.000000</td>\n",
              "      <td>4.000000</td>\n",
              "      <td>10.000000</td>\n",
              "      <td>10.000000</td>\n",
              "      <td>5.000000</td>\n",
              "      <td>5.000000</td>\n",
              "    </tr>\n",
              "    <tr>\n",
              "      <th>max</th>\n",
              "      <td>95880.000000</td>\n",
              "      <td>1440.000000</td>\n",
              "      <td>6.000000</td>\n",
              "      <td>1352.000000</td>\n",
              "      <td>1332.000000</td>\n",
              "      <td>54.000000</td>\n",
              "      <td>58.000000</td>\n",
              "      <td>100.000000</td>\n",
              "      <td>101.000000</td>\n",
              "      <td>360.000000</td>\n",
              "      <td>359.000000</td>\n",
              "    </tr>\n",
              "  </tbody>\n",
              "</table>\n",
              "</div>\n",
              "      <button class=\"colab-df-convert\" onclick=\"convertToInteractive('df-3049a66a-f3b7-479a-baf0-4e5b7a5e1707')\"\n",
              "              title=\"Convert this dataframe to an interactive table.\"\n",
              "              style=\"display:none;\">\n",
              "        \n",
              "  <svg xmlns=\"http://www.w3.org/2000/svg\" height=\"24px\"viewBox=\"0 0 24 24\"\n",
              "       width=\"24px\">\n",
              "    <path d=\"M0 0h24v24H0V0z\" fill=\"none\"/>\n",
              "    <path d=\"M18.56 5.44l.94 2.06.94-2.06 2.06-.94-2.06-.94-.94-2.06-.94 2.06-2.06.94zm-11 1L8.5 8.5l.94-2.06 2.06-.94-2.06-.94L8.5 2.5l-.94 2.06-2.06.94zm10 10l.94 2.06.94-2.06 2.06-.94-2.06-.94-.94-2.06-.94 2.06-2.06.94z\"/><path d=\"M17.41 7.96l-1.37-1.37c-.4-.4-.92-.59-1.43-.59-.52 0-1.04.2-1.43.59L10.3 9.45l-7.72 7.72c-.78.78-.78 2.05 0 2.83L4 21.41c.39.39.9.59 1.41.59.51 0 1.02-.2 1.41-.59l7.78-7.78 2.81-2.81c.8-.78.8-2.07 0-2.86zM5.41 20L4 18.59l7.72-7.72 1.47 1.35L5.41 20z\"/>\n",
              "  </svg>\n",
              "      </button>\n",
              "      \n",
              "  <style>\n",
              "    .colab-df-container {\n",
              "      display:flex;\n",
              "      flex-wrap:wrap;\n",
              "      gap: 12px;\n",
              "    }\n",
              "\n",
              "    .colab-df-convert {\n",
              "      background-color: #E8F0FE;\n",
              "      border: none;\n",
              "      border-radius: 50%;\n",
              "      cursor: pointer;\n",
              "      display: none;\n",
              "      fill: #1967D2;\n",
              "      height: 32px;\n",
              "      padding: 0 0 0 0;\n",
              "      width: 32px;\n",
              "    }\n",
              "\n",
              "    .colab-df-convert:hover {\n",
              "      background-color: #E2EBFA;\n",
              "      box-shadow: 0px 1px 2px rgba(60, 64, 67, 0.3), 0px 1px 3px 1px rgba(60, 64, 67, 0.15);\n",
              "      fill: #174EA6;\n",
              "    }\n",
              "\n",
              "    [theme=dark] .colab-df-convert {\n",
              "      background-color: #3B4455;\n",
              "      fill: #D2E3FC;\n",
              "    }\n",
              "\n",
              "    [theme=dark] .colab-df-convert:hover {\n",
              "      background-color: #434B5C;\n",
              "      box-shadow: 0px 1px 3px 1px rgba(0, 0, 0, 0.15);\n",
              "      filter: drop-shadow(0px 1px 2px rgba(0, 0, 0, 0.3));\n",
              "      fill: #FFFFFF;\n",
              "    }\n",
              "  </style>\n",
              "\n",
              "      <script>\n",
              "        const buttonEl =\n",
              "          document.querySelector('#df-3049a66a-f3b7-479a-baf0-4e5b7a5e1707 button.colab-df-convert');\n",
              "        buttonEl.style.display =\n",
              "          google.colab.kernel.accessAllowed ? 'block' : 'none';\n",
              "\n",
              "        async function convertToInteractive(key) {\n",
              "          const element = document.querySelector('#df-3049a66a-f3b7-479a-baf0-4e5b7a5e1707');\n",
              "          const dataTable =\n",
              "            await google.colab.kernel.invokeFunction('convertToInteractive',\n",
              "                                                     [key], {});\n",
              "          if (!dataTable) return;\n",
              "\n",
              "          const docLinkHtml = 'Like what you see? Visit the ' +\n",
              "            '<a target=\"_blank\" href=https://colab.research.google.com/notebooks/data_table.ipynb>data table notebook</a>'\n",
              "            + ' to learn more about interactive tables.';\n",
              "          element.innerHTML = '';\n",
              "          dataTable['output_type'] = 'display_data';\n",
              "          await google.colab.output.renderOutput(dataTable, element);\n",
              "          const docLink = document.createElement('div');\n",
              "          docLink.innerHTML = docLinkHtml;\n",
              "          element.appendChild(docLink);\n",
              "        }\n",
              "      </script>\n",
              "    </div>\n",
              "  </div>\n",
              "  "
            ]
          },
          "metadata": {},
          "execution_count": 9
        }
      ]
    },
    {
      "cell_type": "code",
      "source": [
        "Cars.columns"
      ],
      "metadata": {
        "colab": {
          "base_uri": "https://localhost:8080/"
        },
        "id": "YmVL-UcQMZZ1",
        "outputId": "6686887d-c002-4465-f372-8f069b1e0bfa"
      },
      "execution_count": 16,
      "outputs": [
        {
          "output_type": "execute_result",
          "data": {
            "text/plain": [
              "Index(['Postal code', 'date', 'n_daily_data_points', 'dayOfWeek', 'day_type',\n",
              "       'BlueCars_taken_sum', 'BlueCars_returned_sum', 'Utilib_taken_sum',\n",
              "       'Utilib_returned_sum', 'Utilib_14_taken_sum', 'Utilib_14_returned_sum',\n",
              "       'Slots_freed_sum', 'Slots_taken_sum'],\n",
              "      dtype='object')"
            ]
          },
          "metadata": {},
          "execution_count": 16
        }
      ]
    },
    {
      "cell_type": "code",
      "source": [
        "#Any Nulls? \n",
        "Cars.isnull().sum()"
      ],
      "metadata": {
        "colab": {
          "base_uri": "https://localhost:8080/"
        },
        "id": "nuM4VVXZLdON",
        "outputId": "ce913ef3-1c4d-4345-c159-12c074267fd0"
      },
      "execution_count": 11,
      "outputs": [
        {
          "output_type": "execute_result",
          "data": {
            "text/plain": [
              "Postal code               0\n",
              "date                      0\n",
              "n_daily_data_points       0\n",
              "dayOfWeek                 0\n",
              "day_type                  0\n",
              "BlueCars_taken_sum        0\n",
              "BlueCars_returned_sum     0\n",
              "Utilib_taken_sum          0\n",
              "Utilib_returned_sum       0\n",
              "Utilib_14_taken_sum       0\n",
              "Utilib_14_returned_sum    0\n",
              "Slots_freed_sum           0\n",
              "Slots_taken_sum           0\n",
              "dtype: int64"
            ]
          },
          "metadata": {},
          "execution_count": 11
        }
      ]
    },
    {
      "cell_type": "markdown",
      "source": [
        "No null values are present!"
      ],
      "metadata": {
        "id": "KEEgRnuQLsLj"
      }
    },
    {
      "cell_type": "code",
      "source": [
        "#Checking for duplicates\n",
        "Cars.duplicated().any().sum()"
      ],
      "metadata": {
        "colab": {
          "base_uri": "https://localhost:8080/"
        },
        "id": "YZSbQevFLDnd",
        "outputId": "b1180eba-ba7c-434c-b25b-cdc6916961b8"
      },
      "execution_count": 14,
      "outputs": [
        {
          "output_type": "execute_result",
          "data": {
            "text/plain": [
              "0"
            ]
          },
          "metadata": {},
          "execution_count": 14
        }
      ]
    },
    {
      "cell_type": "markdown",
      "source": [
        "No duplicate values!"
      ],
      "metadata": {
        "id": "wrGZ_up0Ly4k"
      }
    },
    {
      "cell_type": "code",
      "source": [
        "#Checking for outliers \n",
        "col_names = [\"n_daily_data_points\", \"BlueCars_taken_sum\", \"BlueCars_returned_sum\",\"Utilib_taken_sum\",\n",
        "       \"Utilib_returned_sum\", \"Utilib_14_taken_sum\", \"Utilib_14_returned_sum\",\n",
        "       \"Slots_freed_sum\", \"Slots_taken_sum\"]\n",
        "fig, ax = plt.subplots(len(col_names), figsize = (15,50))\n",
        "for i, col_val in enumerate(col_names):\n",
        "    sns.boxplot(x = Cars[col_val], ax=ax[i])\n",
        "    ax[i].set_title('A boxplot on the {} column'.format(col_val), fontsize=14)\n",
        "    ax[i].set_xlabel(col_val, fontsize=8)\n",
        "plt.show()"
      ],
      "metadata": {
        "colab": {
          "base_uri": "https://localhost:8080/",
          "height": 1000
        },
        "id": "ukKsU2DnMCJJ",
        "outputId": "eaa3e1bd-cbcf-4be4-b68f-e8243ad72747"
      },
      "execution_count": 19,
      "outputs": [
        {
          "output_type": "display_data",
          "data": {
            "text/plain": [
              "<Figure size 1080x3600 with 9 Axes>"
            ],
            "image/png": "[encoded data removed]"
          },
          "metadata": {
            "needs_background": "light"
          }
        }
      ]
    },
    {
      "cell_type": "code",
      "source": [
        "#Confirming the number of outliers \n",
        "DData = Cars[[\"n_daily_data_points\", \"BlueCars_taken_sum\", \"BlueCars_returned_sum\",\"Utilib_taken_sum\",\n",
        "       \"Utilib_returned_sum\", \"Utilib_14_taken_sum\", \"Utilib_14_returned_sum\",\n",
        "       \"Slots_freed_sum\", \"Slots_taken_sum\"]]\n",
        "Q1 = Cars.quantile(0.25)\n",
        "Q3 = Cars.quantile(0.75)\n",
        "IQR = Q3 - Q1\n",
        "((Cars < (Q1 - 1.5 * IQR)) | (Cars > (Q3 + 1.5 * IQR))).sum()"
      ],
      "metadata": {
        "colab": {
          "base_uri": "https://localhost:8080/"
        },
        "id": "I3L-aAgqMUyb",
        "outputId": "f5f92cf7-c8df-4b3a-bb1e-c8020f57a7b1"
      },
      "execution_count": 20,
      "outputs": [
        {
          "output_type": "stream",
          "name": "stderr",
          "text": [
            "/usr/local/lib/python3.7/dist-packages/ipykernel_launcher.py:8: FutureWarning: Automatic reindexing on DataFrame vs Series comparisons is deprecated and will raise ValueError in a future version.  Do `left, right = left.align(right, axis=1, copy=False)` before e.g. `left == right`\n",
            "  \n"
          ]
        },
        {
          "output_type": "execute_result",
          "data": {
            "text/plain": [
              "BlueCars_returned_sum     2213\n",
              "BlueCars_taken_sum        2215\n",
              "Postal code               3899\n",
              "Slots_freed_sum           3235\n",
              "Slots_taken_sum           3234\n",
              "Utilib_14_returned_sum    1820\n",
              "Utilib_14_taken_sum       1815\n",
              "Utilib_returned_sum       1770\n",
              "Utilib_taken_sum          1783\n",
              "date                         0\n",
              "dayOfWeek                    0\n",
              "day_type                     0\n",
              "n_daily_data_points       2670\n",
              "dtype: int64"
            ]
          },
          "metadata": {},
          "execution_count": 20
        }
      ]
    },
    {
      "cell_type": "code",
      "source": [
        "#Removing the outliers\n",
        "Q1 = Cars.quantile(0.25)\n",
        "Q3 = Cars.quantile(0.75)\n",
        "IQR = Q3 - Q1\n",
        "Car = Cars[~((Cars < (Q1 - 1.5 * IQR)) | (Cars > (Q3 + 1.5 * IQR))).any(axis=1)]"
      ],
      "metadata": {
        "colab": {
          "base_uri": "https://localhost:8080/"
        },
        "id": "SkNdIzGgN8I_",
        "outputId": "b1b6b540-e846-493b-f718-040bbfb10e33"
      },
      "execution_count": 24,
      "outputs": [
        {
          "output_type": "stream",
          "name": "stderr",
          "text": [
            "/usr/local/lib/python3.7/dist-packages/ipykernel_launcher.py:5: FutureWarning: Automatic reindexing on DataFrame vs Series comparisons is deprecated and will raise ValueError in a future version.  Do `left, right = left.align(right, axis=1, copy=False)` before e.g. `left == right`\n",
            "  \"\"\"\n"
          ]
        }
      ]
    },
    {
      "cell_type": "code",
      "source": [
        "#Comparing data with outliers and one without \n",
        "print (Cars.shape)\n"
      ],
      "metadata": {
        "colab": {
          "base_uri": "https://localhost:8080/"
        },
        "id": "hkRK53eaMXWz",
        "outputId": "9891d5db-9777-4cff-a953-9e21a6e4522b"
      },
      "execution_count": 27,
      "outputs": [
        {
          "output_type": "stream",
          "name": "stdout",
          "text": [
            "(16085, 13)\n"
          ]
        }
      ]
    },
    {
      "cell_type": "code",
      "source": [
        "print (Car.shape)"
      ],
      "metadata": {
        "colab": {
          "base_uri": "https://localhost:8080/"
        },
        "id": "oTRpvIY_Owxs",
        "outputId": "caea4b66-4d63-482f-80c9-fce3662d4705"
      },
      "execution_count": 28,
      "outputs": [
        {
          "output_type": "stream",
          "name": "stdout",
          "text": [
            "(9783, 13)\n"
          ]
        }
      ]
    },
    {
      "cell_type": "markdown",
      "source": [
        "After comparing the dataset with outliers and the dataset without outliers, it was noted that 7000 records were lost. In this case, removing the outliers may not be a good idea because it would only account for around 60% of the dataset, which is a rather large figure. Nevertheless, we proceed to the next step. "
      ],
      "metadata": {
        "id": "xFtcjW3aO1W8"
      }
    },
    {
      "cell_type": "markdown",
      "source": [
        "***UNIVARIATE ANALYSIS***"
      ],
      "metadata": {
        "id": "76E-C5U-R9WE"
      }
    },
    {
      "cell_type": "code",
      "source": [
        "#Number of blue cars taken\n",
        "#Importing the necesssary visualization libraries \n",
        "import seaborn as sns\n",
        "import matplotlib.pyplot as plt"
      ],
      "metadata": {
        "id": "jyck21WKPPXd"
      },
      "execution_count": 30,
      "outputs": []
    },
    {
      "cell_type": "code",
      "source": [
        "sns.catplot (x=\"day_type\", kind=\"count\", data=Car)\n",
        "plt.title(\"Type of Day\")"
      ],
      "metadata": {
        "colab": {
          "base_uri": "https://localhost:8080/",
          "height": 402
        },
        "id": "yw-dZg9QQ7Xv",
        "outputId": "26bbdbca-c329-49c7-d092-26c1f74d6068"
      },
      "execution_count": 32,
      "outputs": [
        {
          "output_type": "execute_result",
          "data": {
            "text/plain": [
              "Text(0.5, 1.0, 'Type of Day')"
            ]
          },
          "metadata": {},
          "execution_count": 32
        },
        {
          "output_type": "display_data",
          "data": {
            "text/plain": [
              "<Figure size 360x360 with 1 Axes>"
            ],
            "image/png": "[encoded data removed]"
          },
          "metadata": {
            "needs_background": "light"
          }
        }
      ]
    }
  ]
}