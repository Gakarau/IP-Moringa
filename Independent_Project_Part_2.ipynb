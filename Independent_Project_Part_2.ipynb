{
  "nbformat": 4,
  "nbformat_minor": 0,
  "metadata": {
    "colab": {
      "name": "Independent Project Part 2.ipynb",
      "provenance": [],
      "authorship_tag": "ABX9TyPP2iVYQpGo+y5B1GZQtTan",
      "include_colab_link": true
    },
    "kernelspec": {
      "name": "python3",
      "display_name": "Python 3"
    },
    "language_info": {
      "name": "python"
    }
  },
  "cells": [
    {
      "cell_type": "markdown",
      "metadata": {
        "id": "view-in-github",
        "colab_type": "text"
      },
      "source": [
        "<a href=\"https://colab.research.google.com/github/Gakarau/IP-Moringa/blob/main/Independent_Project_Part_2.ipynb\" target=\"_parent\"><img src=\"https://colab.research.google.com/assets/colab-badge.svg\" alt=\"Open In Colab\"/></a>"
      ]
    },
    {
      "cell_type": "code",
      "execution_count": null,
      "metadata": {
        "id": "J0fW5GAjB2tH"
      },
      "outputs": [],
      "source": [
        "#Developing a Hypothesis and Problem Statement\n"
      ]
    },
    {
      "cell_type": "markdown",
      "source": [
        "This project seeks to understand or investigate a cliam about the blue electric car usage from the autolib dataset. The goal is to understand how user patterns are impacted by the days of the week. \n",
        "Thus, the hypothesis to be tested for this study will be: \n",
        "\n",
        "***Null Hypothesis***: There is no significant difference between the number of bluecars taken on weekdays and on weekends \n",
        "\n",
        "***Alternate Hypothesis***: Customers take more blue cars on weekends as compared to weekdays.  "
      ],
      "metadata": {
        "id": "TzPWUFnvIKAX"
      }
    }
  ]
}